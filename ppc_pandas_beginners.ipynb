{
 "cells": [
  {
   "cell_type": "code",
   "execution_count": null,
   "metadata": {},
   "outputs": [],
   "source": [
    "####################################################################\n",
    "# Python PEP Club - Pandas Training Beginners               ########\n",
    "# by Mat and TJ                                             ########\n",
    "# 2021-05-13                                                ########\n",
    "####################################################################\n",
    "\n",
    "# import modules\n",
    "import pandas as pd\n",
    "import os\n",
    "\n",
    "# print working directory\n",
    "print(os.getcwd())\n",
    "# Connect to TEXT/CSV file\n",
    "df = pd.read_csv('pokemon.csv')\n",
    "# Connect to EXCEL file\n",
    "df = pd.read_excel('pokemon.xlsx', sheet_name='sheet1')"
   ]
  },
  {
   "cell_type": "code",
   "execution_count": null,
   "metadata": {},
   "outputs": [],
   "source": [
    "# Display the Data [Columns, Head, Tail, Index, Types]\n",
    "print(\"Printing Head...\")\n",
    "print(df.head(10))\n",
    "print(\"\\nPrinting Tail...\")\n",
    "print(df.tail(10))\n",
    "print(\"\\nPrinting Columns...\")\n",
    "print(df.columns)\n",
    "print(\"\\nPrinting Indexes...\")\n",
    "print(df.index)\n",
    "print(\"\\nPrinting Dtypes...\")\n",
    "print(df.dtypes)\n",
    "print(\"\\nPrinting Describe...\")\n",
    "print(df.describe)\n",
    "print(\"\\nPrinting NUnique...\")\n",
    "print(df.nunique)\n",
    "\n",
    "    ######################## Challenge Question ########################\n",
    "    # Try printing out the last 100 rows excluding the last 10\n",
    "    \n",
    "    # Try printing out the first 2 columns\n",
    "    \n",
    "    # Try printint out the dtypes for the last 2 columns\n",
    "    ####################################################################"
   ]
  },
  {
   "cell_type": "code",
   "execution_count": null,
   "metadata": {},
   "outputs": [],
   "source": [
    "# Index the Data [Column Indexing, Row Indexing, Index, Find Data by row, column]]\n",
    "print(\"\\nIndexing a Column...\")\n",
    "print(df['abilities'])\n",
    "print(df.abilities)\n",
    "print(\"\\nFirst 10 Rows from abilities column...\")\n",
    "print(df.loc[:10,['abilities']])\n",
    "print(\"\\nFiltering for our favorite pokemon: Squirtle\")\n",
    "print(df[df['name']=='Squirtle'])\n",
    "print(\"\\nFilter for Beast Boost abilities\")\n",
    "print(df[['Beast Boost' in l for l in df['abilities']]])\n",
    "\n",
    "    ######################## Challenge Question ########################\n",
    "    # find the stats on your favorite pokemon\n",
    "    \n",
    "    # Filter for the first 10 rows on the last 4 columns\n",
    "    \n",
    "    # Create a new column that outputs True for abilities with Blaze and False for abilities without blaze\n",
    "    ####################################################################"
   ]
  },
  {
   "cell_type": "code",
   "execution_count": null,
   "metadata": {},
   "outputs": [],
   "source": [
    "# Modify the Column\n",
    "df['base_happiness'] = df['base_happiness'] + 1\n",
    "\n",
    "# Create New Column for the sum, avg, and stdev of legendaries\n",
    "df['legendary_sum'] = df['is_legendary'].sum()\n",
    "df['legendary_sum'] = df['is_legendary'].mean()\n",
    "df['legendary_sum'] = df['is_legendary'].std()\n",
    "\n",
    "    ######################## Challenge Question ########################\n",
    "    # trim the data set down to only legendary pokemon\n",
    "    \n",
    "    # sum up the against_bug column\n",
    "    \n",
    "    # avg up the the against_dark column\n",
    "    \n",
    "    # std dev the against_fairy_column\n",
    "    ####################################################################"
   ]
  },
  {
   "cell_type": "code",
   "execution_count": null,
   "metadata": {},
   "outputs": [],
   "source": [
    "# Clean the Data [What to do with NaN and Nulls and 0s]\n",
    "print(df.isna().sum())\n",
    "print(df.isnull().sum())\n",
    "print(df.fillna('N'))"
   ]
  },
  {
   "cell_type": "code",
   "execution_count": null,
   "metadata": {},
   "outputs": [],
   "source": [
    "# Output as TEXT/CSV file\n",
    "df.to_csv('pokemon_out.csv')\n",
    "# Output as EXCEL file.isnull().s\n",
    "df.to_excel('pokemon_out.xlsx', sheet_name=\"sheet1\")"
   ]
  }
 ],
 "metadata": {
  "kernelspec": {
   "display_name": "Python 3",
   "language": "python",
   "name": "python3"
  },
  "language_info": {
   "codemirror_mode": {
    "name": "ipython",
    "version": 3
   },
   "file_extension": ".py",
   "mimetype": "text/x-python",
   "name": "python",
   "nbconvert_exporter": "python",
   "pygments_lexer": "ipython3",
   "version": "3.8.5"
  }
 },
 "nbformat": 4,
 "nbformat_minor": 4
}
