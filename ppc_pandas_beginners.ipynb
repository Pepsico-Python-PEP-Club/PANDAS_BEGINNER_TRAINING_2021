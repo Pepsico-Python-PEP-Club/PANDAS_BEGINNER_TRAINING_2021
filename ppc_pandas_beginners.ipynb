{
 "cells": [
  {
   "cell_type": "code",
   "execution_count": null,
   "metadata": {},
   "outputs": [],
   "source": [
    "!pip install pandas"
   ]
  },
  {
   "cell_type": "code",
   "execution_count": null,
   "metadata": {},
   "outputs": [],
   "source": [
    "!pip install openpyxl"
   ]
  },
  {
   "cell_type": "code",
   "execution_count": null,
   "metadata": {},
   "outputs": [],
   "source": [
    "####################################################################\n",
    "# Python PEP Club - Pandas Training Beginners               ########\n",
    "# by Mat and TJ                                             ########\n",
    "# 2021-05-13                                                ########\n",
    "####################################################################\n",
    "\n",
    "# import modules\n",
    "import pandas as pd\n",
    "import os\n",
    "\n",
    "# print working directory\n",
    "print(os.getcwd())\n",
    "# Connect to TEXT/CSV file\n",
    "df = pd.read_csv('pokemon.csv')\n",
    "# Connect to EXCEL file\n",
    "df = pd.read_excel('pokemon.xlsx', sheet_name='sheet1', engine=\"openpyxl\")"
   ]
  },
  {
   "cell_type": "code",
   "execution_count": null,
   "metadata": {},
   "outputs": [],
   "source": [
    "pd.set_option('display.max_columns', None)  "
   ]
  },
  {
   "cell_type": "code",
   "execution_count": null,
   "metadata": {},
   "outputs": [],
   "source": [
    "# Display the Data [Columns, Head, Tail, Index, Types]\n",
    "df.head(10)"
   ]
  },
  {
   "cell_type": "code",
   "execution_count": null,
   "metadata": {},
   "outputs": [],
   "source": [
    "df.tail(10)"
   ]
  },
  {
   "cell_type": "code",
   "execution_count": null,
   "metadata": {},
   "outputs": [],
   "source": [
    "df.columns"
   ]
  },
  {
   "cell_type": "code",
   "execution_count": null,
   "metadata": {},
   "outputs": [],
   "source": [
    "df.index"
   ]
  },
  {
   "cell_type": "code",
   "execution_count": null,
   "metadata": {},
   "outputs": [],
   "source": [
    "df.dtypes"
   ]
  },
  {
   "cell_type": "code",
   "execution_count": null,
   "metadata": {},
   "outputs": [],
   "source": [
    "df.describe()"
   ]
  },
  {
   "cell_type": "code",
   "execution_count": null,
   "metadata": {},
   "outputs": [],
   "source": [
    "df.nunique()"
   ]
  },
  {
   "cell_type": "code",
   "execution_count": null,
   "metadata": {},
   "outputs": [],
   "source": [
    "######################## Challenge Question ########################\n",
    "# Try printing out the last 100 rows excluding the last 10\n",
    "\n",
    "# Try printing out the first 2 columns\n",
    "\n",
    "# Try printint out the dtypes for the last 2 columns\n",
    "####################################################################"
   ]
  },
  {
   "cell_type": "code",
   "execution_count": null,
   "metadata": {},
   "outputs": [],
   "source": [
    "# Index the Data [Column Indexing, Row Indexing, Index, Find Data by row, column]]\n",
    "df['abilities']\n",
    "df.abilities"
   ]
  },
  {
   "cell_type": "code",
   "execution_count": null,
   "metadata": {},
   "outputs": [],
   "source": [
    "df.loc[:10,['abilities']]"
   ]
  },
  {
   "cell_type": "code",
   "execution_count": null,
   "metadata": {},
   "outputs": [],
   "source": [
    "print(\"\\nFiltering for our favorite pokemon: Squirtle\")\n",
    "df[df['name']=='Squirtle']"
   ]
  },
  {
   "cell_type": "code",
   "execution_count": null,
   "metadata": {},
   "outputs": [],
   "source": [
    "print(\"\\nFilter for Beast Boost abilities\")\n",
    "df[['Beast Boost' in l for l in df['abilities']]]"
   ]
  },
  {
   "cell_type": "code",
   "execution_count": null,
   "metadata": {},
   "outputs": [],
   "source": [
    "######################## Challenge Question ########################\n",
    "# find the stats on your favorite pokemon\n",
    "\n",
    "# Filter for the first 10 rows on the last 4 columns\n",
    "\n",
    "# Create a new column that outputs True for abilities with Blaze and False for abilities without blaze\n",
    "####################################################################"
   ]
  },
  {
   "cell_type": "code",
   "execution_count": null,
   "metadata": {},
   "outputs": [],
   "source": [
    "# Modify the Column\n",
    "df['base_happiness'] = df['base_happiness'] + 1"
   ]
  },
  {
   "cell_type": "code",
   "execution_count": null,
   "metadata": {},
   "outputs": [],
   "source": [
    "# Create New Column for the sum, avg, and stdev of legendaries\n",
    "df['is_legendary'].sum()"
   ]
  },
  {
   "cell_type": "code",
   "execution_count": null,
   "metadata": {},
   "outputs": [],
   "source": [
    "df['is_legendary'].mean()"
   ]
  },
  {
   "cell_type": "code",
   "execution_count": null,
   "metadata": {},
   "outputs": [],
   "source": [
    "df['is_legendary'].std()"
   ]
  },
  {
   "cell_type": "code",
   "execution_count": null,
   "metadata": {},
   "outputs": [],
   "source": [
    "######################## Challenge Question ########################\n",
    "# trim the data set down to only legendary pokemon\n",
    "\n",
    "# sum up the against_bug column\n",
    "\n",
    "# avg up the the against_dark column\n",
    "\n",
    "# std dev the against_fairy_column\n",
    "####################################################################"
   ]
  },
  {
   "cell_type": "code",
   "execution_count": null,
   "metadata": {},
   "outputs": [],
   "source": [
    "# Clean the Data [What to do with NaN and Nulls and 0s]\n",
    "df.isna().sum()"
   ]
  },
  {
   "cell_type": "code",
   "execution_count": null,
   "metadata": {},
   "outputs": [],
   "source": [
    "df.isnull().sum()"
   ]
  },
  {
   "cell_type": "code",
   "execution_count": null,
   "metadata": {},
   "outputs": [],
   "source": [
    "df.fillna('N')"
   ]
  },
  {
   "cell_type": "code",
   "execution_count": null,
   "metadata": {},
   "outputs": [],
   "source": [
    "# Output as TEXT/CSV file\n",
    "df.to_csv('pokemon_out.csv')\n",
    "# Output as EXCEL file.isnull().s\n",
    "df.to_excel('pokemon_out.xlsx', sheet_name=\"sheet1\")"
   ]
  }
 ],
 "metadata": {
  "kernelspec": {
   "display_name": "Python 3",
   "language": "python",
   "name": "python3"
  },
  "language_info": {
   "codemirror_mode": {
    "name": "ipython",
    "version": 3
   },
   "file_extension": ".py",
   "mimetype": "text/x-python",
   "name": "python",
   "nbconvert_exporter": "python",
   "pygments_lexer": "ipython3",
   "version": "3.7.7"
  }
 },
 "nbformat": 4,
 "nbformat_minor": 4
}
